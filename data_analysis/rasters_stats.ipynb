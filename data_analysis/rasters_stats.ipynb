{
 "cells": [
  {
   "cell_type": "code",
   "execution_count": 14,
   "source": [
    "import glob\n",
    "import os\n",
    "import sys\n",
    "\n",
    "import numpy as np\n",
    "\n",
    "sys.path.append(os.path.join(os.path.abspath(\"\"), \"../\"))\n",
    "from utils.raster_utils import raster_to_np\n",
    "from utils.io_utils import load_json\n",
    "\n",
    "ROI_LIST = [\"1158_spring\", \"1868_summer\", \"1970_fall\", \"2017_winter\"]\n",
    "DATA_ROOT = \"/data\"\n",
    "SENSOR = \"s2\"\n",
    "CHANNELS = [\"B1\", \"B2\", \"B3\", \"B4\", \"B5\", \"B6\", \"B7\", \"B8\", \"B8a\", \"B9\", \"B10\", \"B11\", \"B12\"]"
   ],
   "outputs": [],
   "metadata": {}
  },
  {
   "cell_type": "markdown",
   "source": [
    "### Calculate mean and std"
   ],
   "metadata": {}
  },
  {
   "cell_type": "code",
   "execution_count": 8,
   "source": [
    "# Grab list of all subgrids\n",
    "areas_ROI = {val: 0 for val in ROI_LIST}\n",
    "for ROI in ROI_LIST:\n",
    "    roi_folder = os.path.join(DATA_ROOT, f\"ROIs{ROI}\")\n",
    "    areas = glob.glob(os.path.join(roi_folder,\"*\"))\n",
    "    areas = set([int(os.path.split(path)[1].split(\"_\")[1]) for path in areas])\n",
    "    areas_ROI[ROI] = areas\n",
    "\n",
    "means = np.zeros((len(CHANNELS)))\n",
    "stds = np.zeros((len(CHANNELS)))\n",
    "for ROI in ROI_LIST:\n",
    "    for i, area in enumerate(areas_ROI[ROI]):\n",
    "        data_path = os.path.join(DATA_ROOT, f\"ROIs{ROI}\", f\"{SENSOR}_{area}\")\n",
    "        files = glob.glob(os.path.join(data_path, \"*tif\"))\n",
    "        for j, file in enumerate(files):\n",
    "            img_np = raster_to_np(file)\n",
    "            image_stds = np.std(img_np, axis=(1, 2))\n",
    "            image_means = np.mean(img_np, axis=(1, 2))\n",
    "            means += image_means\n",
    "            stds += image_stds"
   ],
   "outputs": [],
   "metadata": {}
  },
  {
   "cell_type": "code",
   "execution_count": 11,
   "source": [
    "means/len(files)"
   ],
   "outputs": [
    {
     "output_type": "execute_result",
     "data": {
      "text/plain": [
       "array([ 633379.07771606,  530338.56699719,  490881.17267132,\n",
       "        490214.08497399,  583009.3253326 ,  839018.49527371,\n",
       "        961302.5563132 ,  936536.71236771, 1048830.08145605,\n",
       "        339887.23487222,   10312.7715806 ,  871970.76634897,\n",
       "        586737.5259709 ])"
      ]
     },
     "metadata": {},
     "execution_count": 11
    }
   ],
   "metadata": {}
  },
  {
   "cell_type": "code",
   "execution_count": 13,
   "source": [
    "stds/len(files)"
   ],
   "outputs": [
    {
     "output_type": "execute_result",
     "data": {
      "text/plain": [
       "array([ 37440.93342533,  59662.58632252,  75616.84200858, 115031.06263879,\n",
       "       113411.8632479 , 158592.02129126, 192365.33563002, 201670.73196264,\n",
       "       214285.32119203,  60211.67835047,   1462.01034356, 195896.23901316,\n",
       "       161060.25719065])"
      ]
     },
     "metadata": {},
     "execution_count": 13
    }
   ],
   "metadata": {}
  },
  {
   "cell_type": "code",
   "execution_count": 15,
   "source": [
    "# Save as json\n",
    "import json\n",
    "means_dict = {band: mean for band, mean in zip(CHANNELS, means)}\n",
    "stds_dict = {band: std for band, std in zip(CHANNELS, stds)}\n",
    "\n",
    "with open(os.path.join(DATA_ROOT, \"rasters_stats.json\"), \"w\") as f:\n",
    "    json.dump({\"means\": means_dict, \"stds\": stds_dict}, f)"
   ],
   "outputs": [],
   "metadata": {}
  },
  {
   "cell_type": "code",
   "execution_count": null,
   "source": [],
   "outputs": [],
   "metadata": {}
  }
 ],
 "metadata": {
  "orig_nbformat": 4,
  "language_info": {
   "name": "python",
   "version": "3.8.10",
   "mimetype": "text/x-python",
   "codemirror_mode": {
    "name": "ipython",
    "version": 3
   },
   "pygments_lexer": "ipython3",
   "nbconvert_exporter": "python",
   "file_extension": ".py"
  },
  "kernelspec": {
   "name": "python3",
   "display_name": "Python 3.8.10 64-bit"
  },
  "interpreter": {
   "hash": "31f2aee4e71d21fbe5cf8b01ff0e069b9275f58929596ceb00d14d90e3e16cd6"
  }
 },
 "nbformat": 4,
 "nbformat_minor": 2
}